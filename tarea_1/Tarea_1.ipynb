{
 "cells": [
  {
   "cell_type": "markdown",
   "id": "37754cbc-930d-4467-a6ba-48084c04c7cf",
   "metadata": {},
   "source": [
    "# Tarea 1\n",
    "#### Este equipo esta conformado por los siguientes integrantes:\n",
    "- Mariscal Villalobos Cesar -  218206852\n",
    "- Rivera Osuna Kevin Eduardo - 222216237"
   ]
  },
  {
   "cell_type": "markdown",
   "id": "539b307e-7c4a-4947-a2b1-87b42667a875",
   "metadata": {},
   "source": [
    "# Problema 1 - Modificando la intensidad de una imagen\n",
    "Cuando hablamos sobre intensidad, nos referimos a los niveles de gris que hay en un pixel dado de nuestra imagen.\n",
    "La operación de modificación de intensidad, nos modifica los valores originales de intensidad de los pixeles de la imagen, pudiendo escalar estos pixeles Sea $I$ nuestro arreglo de pixeles representantes de la imagen y sea $\\alpha$ un escalar cualquiera, aumentamos la intensidad de nuestra imagen por un factor alpha como:  $I * \\alpha $, o simplemente escalamos usando un cantidad fija de unidades, usando una suma $I + \\beta$.\n",
    "\n",
    "Debemos tener cuidado con los escalamientos, esto debido a que al momento de hacer los calculos, podemos desbordar nuestra escala de blancos y negros $[0,255]$. Por lo que una imagen con valores de intensidades cercanos a 255 puede que no sea un buen candidato para amplificar la intensidad."
   ]
  },
  {
   "cell_type": "code",
   "execution_count": 1,
   "id": "28798c22-75f2-4646-b52a-f6fa61594e1b",
   "metadata": {},
   "outputs": [],
   "source": [
    "import cv2 as cv\n",
    "import numpy as np\n",
    "from PIL import Image, ImageOps"
   ]
  },
  {
   "cell_type": "markdown",
   "id": "b2783995-cf8c-4349-9aa6-28e6a58effa9",
   "metadata": {},
   "source": [
    "### Ejemplo realizandeo un escalamiento por un factor constante a los pixeles de la imagen"
   ]
  },
  {
   "cell_type": "code",
   "execution_count": 2,
   "id": "2e47e4bf-4020-4860-a0a0-1fe03d74cf0c",
   "metadata": {},
   "outputs": [],
   "source": [
    "# Comenzamos capturando la imagen que queremos procesar. Por lo general lo hacemos en escalas de grises\n",
    "# ya que nos permite que el algoritmo capture lo escencial de la imagen y funcione mejor.\n",
    "# Procesar una imagen a color puede agregar variaciones o complejidad innecesaria en ciertos casos.\n",
    "image = cv.imread('Alex.jpg',cv.IMREAD_GRAYSCALE)\n",
    "\n",
    "alpha = 1.5\n",
    "\n",
    "# Aumentamos la intensidad de la imagen, debemos tener cuidado porque nuestra matriz que guardaba las intensidades\n",
    "# los cuales son valores de 0 a 255, son numeros enteros, por lo que ahora tendremos una matriz de flotantes\n",
    "image = image * alpha\n",
    "\n",
    "# np.savetxt(\"matriz_float.txt\", image, fmt=\"%d\")\n",
    "# Hacemos nuestra matriz de flotantes a enteros\n",
    "image = image.astype(np.uint8)\n",
    "# np.savetxt(\"matriz_post.txt\", image, fmt=\"%d\")\n",
    "\n",
    "# Mostramos la imagen\n",
    "cv.imshow('Image',image)\n",
    "cv.waitKey(0)\n",
    "cv.destroyAllWindows()\n",
    "\n"
   ]
  },
  {
   "cell_type": "markdown",
   "id": "c5c3efe3-5165-4251-b5e3-1bb1f5633ad2",
   "metadata": {},
   "source": [
    "### Ejemplo realizando un escalamiento a la imagen sumando un entero a sus pixeles"
   ]
  },
  {
   "cell_type": "code",
   "execution_count": 3,
   "id": "34217a81-8b63-4b5f-be98-911f2c8407ed",
   "metadata": {},
   "outputs": [],
   "source": [
    "image = cv.imread('Alex.jpg',cv.IMREAD_GRAYSCALE)\n",
    "\n",
    "beta = 70\n",
    "\n",
    "# Notemos que no ocupamos transformar nuestra matriz porque hicimos una suma de enteros.\n",
    "image = image + beta\n",
    "\n",
    "# Mostramos la imagen\n",
    "cv.imshow('Image',image)\n",
    "cv.waitKey(0)\n",
    "cv.destroyAllWindows()"
   ]
  },
  {
   "cell_type": "markdown",
   "id": "07f0b948-ca54-4541-b266-0b41afedd7fb",
   "metadata": {},
   "source": [
    "# Ejemplo realizando sobre escalamiento"
   ]
  },
  {
   "cell_type": "markdown",
   "id": "4537eeef-1bde-40ae-a419-69c48dfe7146",
   "metadata": {},
   "source": [
    "#### Explicación del ejemplo:\n",
    "Cuando nosotros aumentamos la intensidad, esperamos que la imagen se vuelva cada vez más blanca, debido a que los pixeles estan siendo escalados positivaente, sin embargo, si nos fijamos justo en el ojo de alex, hay secciones negras y blancas, en especifico hay una sección muy blanca en la iris de alex, la cual posteriormente al aumentar la intensidad por un factor de 2.1, esa sección que antes era muy blanca, en vez de quedarse en blanco se volvió negro, esto debido a un problema de overflow en nuestro intervalo de colores.\n"
   ]
  },
  {
   "cell_type": "code",
   "execution_count": 4,
   "id": "018376da-76fa-494a-acf8-959347b46fab",
   "metadata": {},
   "outputs": [],
   "source": [
    "# leemos la imagen, simplemente el ojo de ALEX\n",
    "image = cv.imread('Alex_eye.jpg',cv.IMREAD_GRAYSCALE)\n",
    "\n",
    "alpha = 2.1\n",
    "\n",
    "image_s = image * alpha\n",
    "\n",
    "image_s = image_s.astype(np.uint8)\n",
    "\n",
    "# Mostramos la imagen\n",
    "\n",
    "cv.imshow('Image_scaled',image_s)\n",
    "cv.waitKey(0)\n",
    "cv.destroyAllWindows()\n"
   ]
  },
  {
   "cell_type": "markdown",
   "id": "14e38c25-a3d7-4ffb-bdc7-d2e208df5a3a",
   "metadata": {},
   "source": [
    "# Problema 2 - Invertir la intensidad de imagenes"
   ]
  },
  {
   "cell_type": "markdown",
   "id": "6c359478-a506-4f5a-bd4e-8056065b9748",
   "metadata": {},
   "source": [
    "Consiste en invertir la intensidad de una imagen, dicho esto, podemos resumir el efecto como:\n",
    "- Si la imagen original es muy brillosa/blanca, esta se vuelve oscura/negra\n",
    "- Si la imagen original es muy oscura, esta se vuelve brillosa.\n",
    "- Si invertimos en escala de grises: $255 \\rightarrow 0$\n",
    "Sin embargo, para imagenes de color, al realizar una operación de invertir, lo que nos da como resultado son colores complementarios, por ejemplo:\n",
    "- Si invertimos el color rojo: $(255,0,0) \\rightarrow (0,255,255)$\n",
    "- Si invertimos el color: $(0,0,0) \\rightarrow (255,255,255)$\n",
    "- Si invertimos el color: $(5,255,100) \\rightarrow (250,0,155)$\n",
    "Dada la intensidad $I$ del pixel $P$ que denotare como $I_p$, y dado la intensidad maxima $I_\\text{max}=255$, la inversión de pixel se realiza como:\n",
    "$$I_\\text{invertida} = I_\\text{max}-I_p$$\n",
    "Esta formula funciona tanto para escala de grises como imagenes a color, sin embargo, si queremos aplicar la operación de inversión en una imagen rgb, debemos aplicarla en cada canal R G B.\n",
    "\n",
    "Para este operador no encontramos un caso en el que no se deba de aplicar o tener cuidado, ya que simplemente se esta aplicando una inversión de colores y no representa un cambio muy conflictivo (ya que puede ser facilmente reversible)"
   ]
  },
  {
   "cell_type": "markdown",
   "id": "e2f49c0d-4ffd-43de-adef-12f58ca1ac7a",
   "metadata": {},
   "source": [
    "### Caso 1 - Invertir en escala de grises"
   ]
  },
  {
   "cell_type": "code",
   "execution_count": 5,
   "id": "978ab3b4-cf3b-4ac5-9283-899598fc7dfa",
   "metadata": {},
   "outputs": [],
   "source": [
    "# mapeamos los pixeles de la imagen en una matriz\n",
    "image = cv.imread(\"Castillo.jpg\",cv.IMREAD_GRAYSCALE)\n",
    "\n",
    "# bitwise_not lo que hace es que invierte los valores de los pixeles de la imagen a nivel de bits\n",
    "# Ejemplo: 00101011 ---> 11010100\n",
    "img_inv = cv.bitwise_not(image)\n",
    "\n",
    "cv.imshow(\"Original_image\",image)\n",
    "cv.imshow(\"Inverted_image\",img_inv)\n",
    "cv.waitKey(0)\n",
    "cv.destroyAllWindows()"
   ]
  },
  {
   "cell_type": "markdown",
   "id": "06e2f2de-b65b-418d-98dd-3205987c23cc",
   "metadata": {},
   "source": [
    "### Caso 2 - Invertir imagen RGB"
   ]
  },
  {
   "cell_type": "code",
   "execution_count": 6,
   "id": "cdb315ac-fbe3-4757-9b91-7cc34b2dd91a",
   "metadata": {},
   "outputs": [],
   "source": [
    "image = cv.imread(\"Castillo.jpg\")\n",
    "\n",
    "img_inv = cv.bitwise_not(image)\n",
    "\n",
    "cv.imshow(\"Original_image\",image)\n",
    "cv.imshow(\"Inverted_image\",img_inv)\n",
    "cv.waitKey(0)\n",
    "cv.destroyAllWindows()"
   ]
  },
  {
   "cell_type": "markdown",
   "id": "0653619a-9faf-4512-9b37-58841fbce1d0",
   "metadata": {},
   "source": [
    "# Problema 3 - Operador Umbral\n",
    "Esta operación nos permite dar ciertos valores a un pixel, dependiendo si se cumple una condición.\n",
    "Parece ser muy util para dividir o puntualizar ciertas zonas de la imagen, por ejemplo zonas con poca luz y zonas con mucha luz.\n",
    "La operación mas que una forma aritmética, tiene una forma lógica, por lo que su definición se puede ver como el uso de una función if o una función partida la cuál asigna un valor dependiendo de cierto \"Umbral\".\n",
    "Definimos dos valores constantes $a_0,a_1$, los cuales nos representan los posibles valores que puede asignar la función, tenemos también la constante $q$, la cual nos representara el \"Umbral\" o valor limite con el cual condicionaremos los valores, entonces:\n",
    "$$ \n",
    "f_\\text{threshold}(a) =\n",
    "\\begin{cases}\n",
    "a_0 & \\text{si } a < q  \\\\\n",
    "a_1 & \\text{si } a \\ge q\n",
    "\\end{cases}\n",
    "$$\n",
    "Es interesante esto ya que las imagenes se pueden binarizar de una forma muy sencilla.\n",
    "Hay que tener cuidado en seleccionar un buen umbral, debido a que seleccionar un umbral de intensidad muy alto, puede repercutir en perder toda la información.\n",
    "\n",
    "##### Diferentes casos de uso:\n",
    "Imagen completamente blanca con valor de pixeles $p=255$:\n",
    "- Umbral $0 < q < 255$: La imagen no sufrira un cambio, debido a que el umbral siempre estara por debajo del valor máximo de intensidad\n",
    "- Umbral $q = 255$: La imagen se convertira completamente negra, debido a que el umbral sería igual a la intensidad máxima.\n",
    "\n",
    "\n"
   ]
  },
  {
   "cell_type": "markdown",
   "id": "168d2c84-cafa-45cb-b9df-a016332feed4",
   "metadata": {},
   "source": [
    "### Aplicando un umbral de 30\n",
    "Notamos como esta binarización nos detecta al personaje completamente, separando adecuadamente los diferentes niveles de intensidad."
   ]
  },
  {
   "cell_type": "code",
   "execution_count": 7,
   "id": "025a7636-b58f-4878-8909-3cfcbcf4bdf1",
   "metadata": {},
   "outputs": [],
   "source": [
    "image = cv.imread('Hornet.jpg',cv.IMREAD_GRAYSCALE)\n",
    "\n",
    "_,image_umbral = cv. threshold(image, 30,\n",
    "                             255,\n",
    "                             cv.THRESH_BINARY)\n",
    "cv.imshow('Original_image',image)\n",
    "cv.imshow('Image_umbral',image_umbral)\n",
    "cv.waitKey(0)\n",
    "cv.destroyAllWindows()"
   ]
  },
  {
   "cell_type": "markdown",
   "id": "01327327-de9c-4aa7-8de2-168976a00c8e",
   "metadata": {},
   "source": [
    "### Aplicando umbral 180\n",
    "Vemos algo interesante, el cuerpo y parte de la aguja que tiene el personaje han desaparecido, sin embargo las cabeza y la punta de la aguja, las cuales son las secciones con mayor intensidad, se mantuvieron de color blanco."
   ]
  },
  {
   "cell_type": "code",
   "execution_count": 8,
   "id": "cb83facc-2c53-419e-8e43-1f46cee67fd0",
   "metadata": {},
   "outputs": [],
   "source": [
    "image = cv.imread('Hornet.jpg',cv.IMREAD_GRAYSCALE)\n",
    "\n",
    "ret_val,image_umbral = cv. threshold(image, 180,\n",
    "                             255,\n",
    "                             cv.THRESH_BINARY)\n",
    "cv.imshow('Original_image',image)\n",
    "cv.imshow('Image_umbral',image_umbral)\n",
    "cv.waitKey(0)\n",
    "cv.destroyAllWindows()"
   ]
  },
  {
   "cell_type": "markdown",
   "id": "a5864507-2ccb-429b-8228-6104fc286a72",
   "metadata": {},
   "source": [
    "### Aplicando umbral   0 < q < 255 a una imagen binarizada \n",
    "En los siguientes ejemplos trabajaremos con imagenes binarizadas, para observar que es lo que ocurre en las fronteras de intensidad, 0 y 255 cuando se aplican ciertos umbrales.\n",
    "\n",
    "En este caso vemos el resultado de aplicar diferentes menores a 255, se puede observar que no ocurre nada, lo que tiene sentido con la teoría."
   ]
  },
  {
   "cell_type": "code",
   "execution_count": 9,
   "id": "5d0ba55c-6bb5-44ab-bc1b-61408c7079df",
   "metadata": {},
   "outputs": [],
   "source": [
    "image = cv.imread('Hornet.jpg',cv.IMREAD_GRAYSCALE)\n",
    "\n",
    "# Binarizamos la imagen original a un cierto umbral\n",
    "_,img_bin = cv. threshold(image, 30,\n",
    "                             255,\n",
    "                             cv.THRESH_BINARY)\n",
    "\n",
    "# Vemos que ocurre en los limites de los umbrales cuando tenemos pixeles o completamente negros p = 0, o \n",
    "# pixeles completamente blancos p = 255, como es el caso de una imagen binarizada:\n",
    "_,img_um_100 = cv. threshold(img_bin, 100,\n",
    "                             255,\n",
    "                             cv.THRESH_BINARY)\n",
    "\n",
    "cv.imshow('Original',image)\n",
    "cv.imshow('Image_bin',img_bin)\n",
    "cv.imshow('Image_umbral_255',img_um_100)\n",
    "cv.waitKey(0)\n",
    "cv.destroyAllWindows()"
   ]
  },
  {
   "cell_type": "markdown",
   "id": "15c5328e-d5e6-4c80-8a08-d2998d65f3fc",
   "metadata": {},
   "source": [
    "### Aplicando umbral q = 255 a una imagen binarizada\n",
    "Notamos que la imagen se vuelve completamente negra, lo que corresponde a un caso correcto del análisis teorico."
   ]
  },
  {
   "cell_type": "code",
   "execution_count": 10,
   "id": "a215eba3-4f51-4ea7-9a5a-8795f4cb7447",
   "metadata": {},
   "outputs": [],
   "source": [
    "_,img_um_255 = cv. threshold(img_bin, 255,\n",
    "                             255,\n",
    "                             cv.THRESH_BINARY)\n",
    "cv.imshow('Image_bin',img_bin)\n",
    "cv.imshow('Image_umbral_255',img_um_255)\n",
    "cv.waitKey(0)\n",
    "cv.destroyAllWindows()"
   ]
  },
  {
   "cell_type": "markdown",
   "id": "a55cb407-3a12-449b-91bf-a225359c6d0e",
   "metadata": {},
   "source": [
    "# Problema 4 - Autocontraste modificado\n",
    "Antes de hablar del autocontraste modificado, es importante comprender que es el contraste, posteriormente definiremos que es el autocontraste y la diferencia entre el autocontraste modificado y el no modificado.\n",
    "##### Definiendo un poco el concepto de contraste\n",
    "Cuando se hace mencion de **contraste**, lo primero que se nos debe de venir a la mente es que tan distinto es el negro más negro, del blanco más blanco en una imagen.\n",
    "\n",
    "Un poco más formal, el contraste lo podemos definir como la diferencia que existe entre el valor de intensidad más grande $p_\\text{h}$, menos el valor de intensidad más pequeño $p_\\text{l}$ (suponiendo una escala de grises).\n",
    "$$ \n",
    "\\text{Contraste} = p_\\text{h} - p_\\text{l}\n",
    "$$\n",
    "\n",
    "Sabiendo esto, si una imagen $A$ tiene pixeles con valores dentro del intervalo $[100,150]$, mientras que una imagen $B$ tiene pixeles con valores dentro del intervalo $[50,210]$, podemos afirmar que $A$ tiene menos contraste que $B$, dado que hay una mayor distancia entre las intensidades más bajas con las más altas.\n",
    "\n",
    "Entre más contraste tenga una imagen, los detalles en esta misma seran más claros, mientras que con un contraste más bajo, la imagen se verá menos detallada o apagada. Esto debido a que como el contraste es la distancia entre los extremos de las intensidades, entonces los colores tienden a parecerse más unos con los otros, a diferencia de si usaramos toda la escala de grises que disponemos.\n",
    "A este ultimo tipo de imagenes, se les conoce como **full-contrast** \n",
    "\n",
    "##### Entonces, ¿Qué es el auto contraste?\n",
    "El autocontraste nos permite realizar un mapeo de los pixeles, para que estos ocupen todo el rango de itensidad (en escala de grises, toda la escala de grises). Por lo tanto, el autocontraste **solo** lo usaremos cuando una imagen no abarca todo el rango de intensidad disponible, como veremos en la formula más adelante.\n",
    "\n",
    "Para realizar este mapeo, primero debemos tener claro nuestro rango de intensidad al que queremos mapear $[p_\\text{min},p_\\text{max}]$ , suponiendo que queremos la intensidad minima y maxima posible tendríamos $[0,255]$, y el rango de intensidad correspondiente a la imagen $[p_\\text{l},p_\\text{h}]$, posteriormente aplicamos a cada pixel la siguiente función:\n",
    "$$\n",
    "f_\\text{ac}(a) = p_\\text{min} + (a - p_\\text{l}) \\cdot \\frac{p_\\text{max}-p_\\text{min}}{p_\\text{h}-p_\\text{l} }\n",
    "$$\n",
    "Analizando un poco la expresión, el termino $\\frac{p_\\text{max}-p_\\text{min}}{p_\\text{h}-p_\\text{l}}$ es siempre un valor positivo, mas aún, suponiendo que el mapeo siempre es con la finalidad de aumentar el contraste (aunque no necesariamente siempre se hace para aumentar el contraste), $ p_\\text{max}-p_\\text{min} > p_\\text{h}-p_\\text{l}$, por lo tanto el termino completo siempre es mayor a 1. Este factor es la constante \"lineal\" con la cuál vamos a escalar los pixeles.\n",
    "\n",
    "Además tenemos el termino $(a-p_\\text{l})$, este termino, nos determina diferencia de intensidad que hay entre el pixel y el pixel con menor intensidad. Esta diferencia posteriormente se va a escalar, ya que para integrar este nuevo pixel a una escala de mayor contraste, usamos esta relación lineal. \n",
    "\n",
    "Aplicando la simplificación que se recomendo en clase, de tomar el rango de intensidad para imagenes full-contrast $[0,255]$ llegamos a:\n",
    "$$\n",
    "f_\\text{ac} = (a - p_\\text{l}) \\cdot \\frac{255}{p_\\text{h}-p_\\text{l} }\n",
    "$$\n",
    "\n",
    "##### Si el autocontraste ya soluciona el problema, ¿para que nos sirve el autocontraste modificado?\n",
    "El autocontraste parece ser una gran herramienta, sin embargo, supongamos que el $90\\%$ de los pixeles de nuestra imagen se encuentran en el rango de intensidad $[100,150]$, mientras que un $6\\%$ se encuentra en el rango $[20,25]$ y el otro $4\\%$ se encuentra en el rango $[201,215]$, si nosotros realizamos un autocontraste a nuestra imagen, veremos como nuestra imagen pierde definición, debido a que estamos \"estirando\" nuestro rango de intensidad basado en valores atipicos en los extremos, cuando en realidad el $90\\%$ de nuestra imagen se encuentra en un rango muy diferente a nuestros valores tipicos.\n",
    "\n",
    "La forma de solucionar este problema, es similar a como se plantean los gráficos de caja, los cuales a su vez, tratan de despejar las estimaciones importantes de los datos atipicos, separando el conjunto de datos en cuartiles.\n",
    "\n",
    "Para este método, deberemos ubicar 2 nuevos valores, los correspondientes a la intensidad del cuartil inferior $q_l$ y el cuartil superior $q_h$. De forma similar al autocontraste, pero separando los quartiles, mapeamos los pixeles con la siguiente función:\n",
    "\n",
    "$$ \n",
    "f_\\text{mac}(a) =\n",
    "\\begin{cases}\n",
    "p_\\text{min} & \\text{si } a \\le q_l  \\\\\n",
    "p_\\text{min} + (a - p_\\text{l}) \\cdot \\frac{p_\\text{max}-p_\\text{min}}{p_\\text{h}-p_\\text{l} } & \\text{si } q_l < a <q_h \\\\\n",
    "p_\\text{max} & \\text{si } a \\ge q_h\n",
    "\\end{cases}\n",
    "$$\n",
    "\n",
    "##### Cuando usarla y cuando no\n",
    "Es interesante usar un autocontraste cuando el contraste de la imagen es muy bajo y no se alcanzan a notar los detalles de la imagen. Sin embargo, si una imagen ya tiene un contraste alto, podríamos reducir su contraste para intentar apagar un poco la intensidad de los colores.\n",
    "\n",
    "Esta función no tiene sentido el aumentar de contraste en imagenes con muy poca variación de valores de pixeles, por ejemplo una imagen binarizada con 0 y 255, debido a que los valores inferior y superior ya son el máximo y el mínimo."
   ]
  },
  {
   "cell_type": "markdown",
   "id": "01657b4e-b173-46ac-b0e3-79de626c8c18",
   "metadata": {},
   "source": [
    "### Ejemplo 1 - Faro/niebla\n",
    "Podemos apreciar como el aumento de contraste resalta el faro, además que se puede apreciar de una mejor manera ciertos detalles de las capas de la niebla que no se notaban por el contraste bajo que tenía."
   ]
  },
  {
   "cell_type": "code",
   "execution_count": 11,
   "id": "4cdf9c89-5584-49f9-a7c4-d90cb4392641",
   "metadata": {},
   "outputs": [],
   "source": [
    "image = Image.open(\"Faro_gray.jpg\")\n",
    "\n",
    "# Aplicamos el auto contraste\n",
    "img_ac = ImageOps.autocontrast(image)\n",
    "\n",
    "# Desplegamos las imagenes, esperar a que se abra su visualizador de fotos\n",
    "image.show(title='Faro')\n",
    "img_ac.show(title='Faro_contrast')"
   ]
  },
  {
   "cell_type": "markdown",
   "id": "f55d66d9-6912-4d9f-bb2c-1cd3a38ea6ca",
   "metadata": {},
   "source": [
    "### Ejemplo 2 - Bosque\n",
    "Vemos como las ramas alcanzan una mejor definición, en especial los reflejos del lago y los arboles de la esquina inferior derecha"
   ]
  },
  {
   "cell_type": "code",
   "execution_count": null,
   "id": "291deb66-bee3-41c3-899f-c7fd10abe7d9",
   "metadata": {},
   "outputs": [],
   "source": [
    "image = Image.open(\"Forest_gray.jpg\")\n",
    "\n",
    "img_mac= ImageOps.autocontrast(image)\n",
    "\n",
    "image.show(title='Forest')\n",
    "img_mac.show(title='Forest_contrast')"
   ]
  },
  {
   "cell_type": "markdown",
   "id": "cdcba92e-892c-4bb0-b639-a0dc72ea13ca",
   "metadata": {},
   "source": [
    "# Problema 5 - Operador Logaritmo\n",
    "Cuando nosotros pensamos en la función logaritmo, es extremadamente común pensar en un crecimiento lento. Dada esta propiedad, es muy utilizada en diferentes areas, por ejemplo, si se desea análizar un conjunto de datos, los cuales estan muy dispersos entre si, o si existen valores extremos atipicos, esto debido a que la función logaritmo transforma los valores grandes a valores mucho más pequeños, y los valores pequeños no los modifica tanto.\n",
    "\n",
    "El uso de logaritmos para el procesamiento de imagenes, puede resultar útil para controlar una gran variación en las intensidades de una imagen, consiguiendo que no se encuentren diferencias tan bruscas en las intensidades de la imagen. \n",
    "\n",
    "Esta operación se cálcula de la forma:\n",
    "$$\n",
    "Q(i,j) = c\\log(1+I_p)\n",
    "$$\n",
    "Donde \n",
    "- $I_p$ corresponde al valor de la intensidad del pixel a modificar\n",
    "- c es el valor de escala, ya que ocupamos ajustar la función logaritmo para que nuestros valores sean mapeados adecuadamente en el rango $[0,255]$.\n",
    "El calculo de c se realiza lo podemos realizar con un despeje, suponiendo que al aplicar la operación logaritmo conseguimos la intensidad máxima justo cuando aplicamos este operador a nuestro pixel con mayor intensidad $I_p==$ el valor del pixel con mayor intensidad en la imagen.\n",
    "Realizando el despeje tenemos:\n",
    "$$  \n",
    "\\begin{align*}\n",
    "Q(i,j) &= c\\log(1+I_p)\\\\\n",
    "255 &= c\\log(1+I_\\text{pmax})\\\\\n",
    "c &= \\frac{255}{\\log(1+I_\\text{pmax})}\n",
    "\\end{align*}\n",
    "$$\n",
    "##### Cuando es interesante realizazr esta operación?\n",
    "Como mencionamos anteriormente, aplicar la operación logaritmo reduce valores muy grandes, y los pequeños los modifica muy poco, teniendo esto en cuenta, imagenes con un alto contraste o con muy bajo contraste, pueden ser buenas candidatas para aplicar esta operación.\n",
    "\n",
    "Si la imagen ya cuenta con un contraste bueno, puede no mejorar la imagen, o puede empeorar la calidad de esta ya que estaríamos transformando una imagen que ya contaba con una buena definición."
   ]
  },
  {
   "cell_type": "markdown",
   "id": "959f73a4-7ca3-46ae-96d0-11ef9620db43",
   "metadata": {},
   "source": [
    "### Ejemplo 1 - Aplicando operador logaritmo a una imagen de alto contraste\n",
    "En esta imagen, podemos notar como al aplicar el operador logaritmo, muchas zonas de la imagen se volvieron grises, pero curiosamente hay unos trazos o pixeles un poco raros en la copa izquierda, estos corresponden a zonas que probablemente se deseaba amplificar los tonos oscuros, por lo que tal vez remarcaron el color oscuro un poco más."
   ]
  },
  {
   "cell_type": "code",
   "execution_count": null,
   "id": "6ee46e4b-c027-476e-9d8e-a1f94967b159",
   "metadata": {},
   "outputs": [],
   "source": [
    "image = cv.imread(\"Cups.jpg\",cv.IMREAD_GRAYSCALE)\n",
    "\n",
    "# Convertimos a punto flotante las intensidades\n",
    "img = image.astype(np.float32)\n",
    "\n",
    "# Calculamos la constante de escalado\n",
    "c = 255 / np.log(1 + np.max(img))\n",
    "\n",
    "# Aplicamos el operador logaritmo a las intensidades\n",
    "image_log = c * np.log(1 + img) \n",
    "\n",
    "# Regresamos las intensidades en forma de enteros\n",
    "image_log = np.uint8(np.clip(image_log,0,255))\n",
    "\n",
    "cv.imshow(\"Original\",image)\n",
    "cv.imshow(\"image_log\",image_log)\n",
    "cv.waitKey(0)\n",
    "cv.destroyAllWindows()"
   ]
  },
  {
   "cell_type": "markdown",
   "id": "445b36c6-cc2f-4ff2-8da9-0c2e479cf28b",
   "metadata": {},
   "source": [
    "### Ejemplo 2 - Aplicando operador logaritmo a una imagen con un contraste adecuado\n",
    "Podemos observar, como al aplicar el operador logaritmo a una imagen que actualmente tiene un contraste adecuado, se ve perjudicada, y no consigue ni si quiera la calidad de la imagen de contraste inicial (ya que su contraste es mucho menor)."
   ]
  },
  {
   "cell_type": "code",
   "execution_count": null,
   "id": "c2288b9d-2886-4d15-b961-93f222c1bf7b",
   "metadata": {},
   "outputs": [],
   "source": [
    "image = Image.open(\"Faro_gray.jpg\")\n",
    "\n",
    "# Aplicamos el auto contraste para darle un contraste bueno a esta foto\n",
    "img_ac = ImageOps.autocontrast(image)\n",
    "\n",
    "# Transformamos los objetos pil a un arreglo tipo numpy\n",
    "image = np.array(image)\n",
    "img_ac = np.array(img_ac)\n",
    "\n",
    "# Ahora aplicamos el operador logaritmo de la misma forma que en el problema anterior\n",
    "\n",
    "img_ac_f = img_ac.astype(np.float32)\n",
    "\n",
    "c = 255 / np.log(1 + np.max(img_ac_f))\n",
    "image_log = c * np.log(1 + img_ac_f) \n",
    "\n",
    "image_log = np.uint8(np.clip(image_log,0,255))\n",
    "\n",
    "# Desplegamos las imagenes para compararlas\n",
    "cv.imshow(\"Original\",image)\n",
    "cv.imshow(\"image_contrast\",img_ac)\n",
    "cv.imshow(\"image_log\",image_log)\n",
    "cv.waitKey(0)\n",
    "cv.destroyAllWindows()"
   ]
  },
  {
   "cell_type": "markdown",
   "id": "8c4ce70e-3e34-43d5-a330-c6203236ed1f",
   "metadata": {},
   "source": [
    "# Problema 6 - Operador Exponencial\n",
    "\n",
    "Su efecto principal es realzar los píxeles con intensidades altas.\n",
    "\n",
    "### Formula\n",
    "\n",
    "$$\n",
    "Q(i,j) = c(b^{P(i,j)} - 1)\n",
    "$$\n",
    "\n",
    "Donde $b$ es la base (generalmente un valor ligeramente mayor que 1) y $c$ es un factor de escala para asegurar que el valor maximo de $Q(i,j)$ sea 255.\n",
    "\n",
    "### Usos\n",
    "\n",
    "Funciona bien en:\n",
    "- Imagenes con zonas claras que se quieran resaltar.\n",
    "- Aumento drastico de luminisidad.\n",
    "- Cuando se desea revertir los efectos del operador logaritmo\n",
    "\n",
    "No conviene usarlo en:\n",
    "- Imagenes oscuras.\n",
    "- Imagenes con ruido en zonas brillantes."
   ]
  },
  {
   "cell_type": "markdown",
   "id": "8dc7adcc-04de-4b33-9a27-9d58aa9be328",
   "metadata": {},
   "source": [
    "### Ejemplo 1"
   ]
  },
  {
   "cell_type": "code",
   "execution_count": null,
   "id": "681ca1ec-05e9-4a4c-8f65-0696a4f054fe",
   "metadata": {},
   "outputs": [],
   "source": [
    "image = cv.imread('Castillo.jpg',cv.IMREAD_GRAYSCALE)\n",
    "\n",
    "b = 1.02 # Base un poco mayor que 1\n",
    "c = 255 / (b**255 - 1)\n",
    "\n",
    "exp_img = c * (np.power(b, image) - 1)\n",
    "exp_img = np.clip(exp_img, 0, 255).astype(np.uint8)\n",
    "\n",
    "cv.imshow(\"Original\", image)\n",
    "cv.imshow(\"Exponencial\", exp_img)\n",
    "cv.waitKey(0)\n",
    "cv.destroyAllWindows()\n"
   ]
  },
  {
   "cell_type": "markdown",
   "id": "fa94d49d-bff3-436a-bed4-587bcde848d8",
   "metadata": {},
   "source": [
    "### Ejemplo 2 - Inverso del operador logaritmo\n",
    "Se retoma el ejemplo 1 del problema 5"
   ]
  },
  {
   "cell_type": "code",
   "execution_count": null,
   "id": "af354796-15b8-42e9-ac80-ee8f46af2648",
   "metadata": {},
   "outputs": [],
   "source": [
    "image = cv.imread(\"Cups.jpg\",cv.IMREAD_GRAYSCALE)\n",
    "\n",
    "# Convertimos a punto flotante las intensidades\n",
    "img = image.astype(np.float32)\n",
    "\n",
    "c = 255 / np.log(1 + np.max(img))\n",
    "image_log = c * np.log(1 + img) \n",
    "\n",
    "# Regresamos las intensidades en forma de enteros\n",
    "image_log = np.uint8(np.clip(image_log,0,255))\n",
    "b = 1.02 # Base un poco mayor que 1\n",
    "c = 255 / (b**255 - 1)\n",
    "\n",
    "img_aux = image_log\n",
    "\n",
    "exp_img = c * (np.power(b, img_aux) - 1)\n",
    "exp_img = np.clip(exp_img, 0, 255).astype(np.uint8)\n",
    "\n",
    "cv.imshow(\"Original\",image)\n",
    "cv.imshow(\"image_log\",image_log)\n",
    "cv.imshow(\"Exponencial\", exp_img)\n",
    "cv.waitKey(0)\n",
    "cv.destroyAllWindows()"
   ]
  },
  {
   "cell_type": "markdown",
   "id": "fd2f92a8-f9c4-4e0f-9787-aa56ac8acb85",
   "metadata": {},
   "source": [
    "# Problema 7 - Correción Gamma\n",
    "\n",
    "### Que es?\n",
    "\n",
    "Esta operacion ajusta la luminosidad de una imagen, se utilza para compensar el como los dispositivos capturan o muestran la intensidad de la luz.\n",
    "\n",
    "### Formula\n",
    "\n",
    "La formula mas usada es:\n",
    "$$\n",
    "I_{out} = \\left(  \\frac{I_{in}}{I_{max}}\\right)^{\\gamma} \\cdot I_{max}\n",
    "$$\n",
    "\n",
    "### Usos\n",
    "\n",
    "Funciona bien en:\n",
    "- Funciona bien en fotos muy oscuras.\n",
    "- Hacer que la imagen se vea mas natural.\n",
    "- Preparar imagenes para impresion.\n",
    "\n",
    "No conviene usarla en:\n",
    "- Imagenes ya correctamente iluminadas, puede distorsionar los colores.\n",
    "- Imagenes con mucho ruido, al aclararlas se genera aun mas ruido."
   ]
  },
  {
   "cell_type": "code",
   "execution_count": null,
   "id": "424160a8-9dd8-4669-8444-c97e6fde3e54",
   "metadata": {},
   "outputs": [],
   "source": [
    "def gamma_correction(image, gamma=1.0):\n",
    "    img_norm = image.astype(np.float32) / 255.0\n",
    "    corrected = np.power(img_norm, gamma)\n",
    "    return np.uint8(corrected * 255.0)\n",
    "\n",
    "\n",
    "img = cv.imread('Castillo.jpg',cv.IMREAD_GRAYSCALE)\n",
    "\n",
    "# Ejemplos con distintos gammas\n",
    "gamma_dark = gamma_correction(img, 1.5) # oscurece\n",
    "cv.imshow(\"Gamma=1.5\", gamma_dark)\n",
    "\n",
    "gamma = gamma_correction(img) # no cambia\n",
    "cv.imshow(\"Gamma=1.0\", gamma)\n",
    "\n",
    "gamma_bright = gamma_correction(img, 0.5) # aclara\n",
    "cv.imshow(\"Gamma=0.5\", gamma_bright)\n",
    "\n",
    "cv.waitKey(0)\n",
    "cv.destroyAllWindows()"
   ]
  }
 ],
 "metadata": {
  "kernelspec": {
   "display_name": "Python 3 (ipykernel)",
   "language": "python",
   "name": "python3"
  },
  "language_info": {
   "codemirror_mode": {
    "name": "ipython",
    "version": 3
   },
   "file_extension": ".py",
   "mimetype": "text/x-python",
   "name": "python",
   "nbconvert_exporter": "python",
   "pygments_lexer": "ipython3",
   "version": "3.13.7"
  }
 },
 "nbformat": 4,
 "nbformat_minor": 5
}
