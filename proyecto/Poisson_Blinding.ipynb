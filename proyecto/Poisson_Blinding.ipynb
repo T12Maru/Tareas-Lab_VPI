{
 "cells": [
  {
   "cell_type": "markdown",
   "id": "d5284ae4-a803-49f4-a1e8-544263f40238",
   "metadata": {},
   "source": [
    "# Poisson Blinding"
   ]
  },
  {
   "cell_type": "code",
   "execution_count": 1,
   "id": "10a59f8e-3dc7-429f-a540-a73ea0124894",
   "metadata": {},
   "outputs": [],
   "source": [
    "# idk"
   ]
  }
 ],
 "metadata": {
  "kernelspec": {
   "display_name": "Python 3 (ipykernel)",
   "language": "python",
   "name": "python3"
  },
  "language_info": {
   "codemirror_mode": {
    "name": "ipython",
    "version": 3
   },
   "file_extension": ".py",
   "mimetype": "text/x-python",
   "name": "python",
   "nbconvert_exporter": "python",
   "pygments_lexer": "ipython3",
   "version": "3.13.7"
  }
 },
 "nbformat": 4,
 "nbformat_minor": 5
}
