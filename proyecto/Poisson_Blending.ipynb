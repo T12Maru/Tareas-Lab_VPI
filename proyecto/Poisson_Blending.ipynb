{
 "cells": [
  {
   "cell_type": "markdown",
   "id": "d5284ae4-a803-49f4-a1e8-544263f40238",
   "metadata": {},
   "source": [
    "# Poisson Blending\n",
    "Contexto breve: Recordemos la primera vez que intentamos mezclar 2 imagenes que no tienen relación alguna, es probable que el resultado no fuera muy agradable, esto se debe a que las intensidades entre cada imagen puede que sean muy distintas entre si, creando un cambio bruzco entre la imagen de fondo y la que esta encima de.\n",
    "\n",
    "Existe un método para \"mezclar\" una imagen fuente dentro de una imagen objetivo, conocido como Poisson Blending, aunque también es conocido como Gradient Domain Image Blending (Mezcla de imágenes en el dominio del gradiente) debido al uso de este operador."
   ]
  },
  {
   "cell_type": "markdown",
   "id": "a62241d6-bbce-4704-a2f9-0226cfd8d9f2",
   "metadata": {},
   "source": [
    "# Explicación simplificada para Poisson Blending\n",
    "El método es relativamente sencillo, sin embargo, las justificaciones mátematicas pueden llegar asustar un poco si se tiene poca experiencia en cálculo multidimensional. Por lo tanto, harémos una explicación un poco más simplificada para explicar el comportamiento general del algoritmo, enfocandonos simplemente en un vector de intensidades (una fila de pixeles, en lugar de una imagen de 2 dimensiones).\n",
    "\n",
    "## Modelado y definiciones importantes\n",
    "Antes de entrar de lleno al algoritmo, es importante hablar un poco de las bases de este modelo. Algunas palabras que usaremos son:\n",
    "- Imagen objetivo: Representa la imagen que se encontrará en el fondo\n",
    "- Imagen fuente: Representa la imagen que se colocará sobre la imagen fuente\n",
    "- Intensidad: Cantidad de que tanto brilla un pixel (si solo esta en escala de grises)\n",
    "### ¿Qué es el gradiente de una imagen?\n",
    "El calculo del gradiente es muy importante, por lo que veremos como es que este se puede calcular en el caso de 1 dimensión.\n",
    "\n",
    "Supongamos que tenemos nuestra imagen en escala de grises:\n",
    "\n",
    "<img src=\"./img1.png\" alt=\"imagen_objetivo\" width=\"50%\" height=\"auto\"/>\n",
    "\n",
    "Cada pixel tiene su propio valor de intensidad, de la imagen notamos que tenemos 8 pixeles, los cuales contienen los valores de intensidad $I_1,...,I_8$. Para una mejor visualización de esto, podemos crear la siguiente gráfica discretizada:\n",
    "\n",
    "<img src=\"./hist1.png\" alt=\"hist1\" width=\"50%\" height=\"auto\"/>\n",
    "\n",
    "Además, cada pixel tiene su propio valor de gradiente.\n",
    "\n",
    "Nota:Cuando hablamos de gradiente en 1 dimensión, sabemos que esto se reduce al calculo de la derivada. \n",
    "\n",
    "Supongamos que queremos calcular el gradiente del pixel 3, entonces tenemos: \n",
    "\n",
    "$$\n",
    "\\frac{I_{3+\\Delta p}-I_3}{\\Delta p}\n",
    "$$\n",
    "\n",
    "Nuestro $\\Delta p$ más pequeño es $1$ debido a la distancia entre los pixeles, esto nos deja:\n",
    "\n",
    "$$\n",
    "\\frac{I_{3+ 1}-I_3}{1}= I_4-I_3=5-3=2\n",
    "$$\n",
    "\n",
    "Definimos el vector gradiente entre los pixeles <p,q> como:\n",
    "$$\n",
    "v_{p,q}=I_p-I_q = -v_{q,p}\n",
    "$$\n",
    "\n",
    "\n",
    "Vemos que el gradiente v_{p,q}, no es más que el cambio entre las intensidades desde q hasta p. Visualmente podemos ver esto como:\n",
    "\n",
    "<img src=\"./gradiente.png\" alt=\"gradiente\" width=\"50%\" height=\"auto\"/>\n",
    "\n",
    "### Un pequeño problema\n",
    "Ahora que sabemos como describir un pixel en terminos de intensidades y gradientes, podemos ver una aplicación sencilla.\n",
    "\n",
    "Supongamos que por alguna razón, los pixeles 3, 4, 5 y 6 desaparecieron y no sabemos que intensidades tenian. Sin embargo, tenemos guardados los valores de los gradientes que le corresponden a estos 4 pixeles. Además, las intensidades de los pixeles 2 y 7 son conocidas, sabiendo esto, ¿Cuál es el valor de intensidad de los pixeles?\n",
    "\n",
    "<img src=\"./hist3.png\" alt=\"gradiente\" width=\"50%\" height=\"auto\"/>\n",
    "\n",
    "Si recordamos la definición del gradiente:\n",
    "$$\n",
    "\\begin{align}\n",
    "v_{p,q}&=I_p-I_q\\\\\n",
    "I_p &= v_{p,q} + I_q\n",
    "\\end{align}\n",
    "$$\n",
    "\n",
    "Sustituyendo tenemos:\n",
    "$$\n",
    "\\begin{align}\n",
    "I_3 &= v_{3,2} + I_2\\\\\n",
    "I_p &= -1 + 4\\\\\n",
    "I_p &= 3\n",
    "\\end{align}\n",
    "$$\n",
    "\n",
    " "
   ]
  },
  {
   "cell_type": "code",
   "execution_count": null,
   "id": "7294d141-52e3-4ed3-8140-162e4f16073d",
   "metadata": {},
   "outputs": [],
   "source": [
    "import numpy as np"
   ]
  },
  {
   "cell_type": "code",
   "execution_count": 1,
   "id": "10a59f8e-3dc7-429f-a540-a73ea0124894",
   "metadata": {},
   "outputs": [],
   "source": [
    "# idk\n",
    "\n",
    "def PoissonBlending(src_img, mask, src_grad, trgt_img, x0,y0, bc):\n",
    "\n",
    "    for mask_row in mask:\n",
    "        for mask_value in mask_row\n",
    "            if value == 1:\n",
    "                \n",
    "                # do something\n",
    "            else: \n",
    "                continue\n",
    "\n",
    "def Energy\n",
    "        \n",
    "    "
   ]
  }
 ],
 "metadata": {
  "kernelspec": {
   "display_name": "Python 3 (ipykernel)",
   "language": "python",
   "name": "python3"
  },
  "language_info": {
   "codemirror_mode": {
    "name": "ipython",
    "version": 3
   },
   "file_extension": ".py",
   "mimetype": "text/x-python",
   "name": "python",
   "nbconvert_exporter": "python",
   "pygments_lexer": "ipython3",
   "version": "3.13.7"
  }
 },
 "nbformat": 4,
 "nbformat_minor": 5
}
